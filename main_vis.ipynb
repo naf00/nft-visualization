{
 "cells": [
  {
   "cell_type": "markdown",
   "metadata": {},
   "source": [
    "# NFT Trading history\n",
    "## (v1.2022-02-05)\n"
   ]
  },
  {
   "cell_type": "code",
   "execution_count": null,
   "metadata": {},
   "outputs": [],
   "source": [
    "#Run this to install plotly for the first time (if needed)\n",
    "!pip install chart-studio"
   ]
  },
  {
   "cell_type": "markdown",
   "metadata": {},
   "source": [
    "## Libraries and path"
   ]
  },
  {
   "cell_type": "code",
   "execution_count": null,
   "metadata": {},
   "outputs": [],
   "source": [
    "# import libraries\n",
    "import pandas as pd\n",
    "import numpy as np\n",
    "from functools import reduce\n",
    "import os \n",
    "import math\n",
    "import chart_studio.plotly as py\n",
    "import chart_studio.tools as tls\n",
    "import plotly.express as px\n",
    "import chart_studio"
   ]
  },
  {
   "cell_type": "code",
   "execution_count": null,
   "metadata": {},
   "outputs": [],
   "source": [
    "# set path\n",
    "print(os.getcwd())\n",
    "os.chdir('CSV files path goes here')  # Provide the new path here"
   ]
  },
  {
   "cell_type": "markdown",
   "metadata": {},
   "source": [
    "## Read data"
   ]
  },
  {
   "cell_type": "code",
   "execution_count": null,
   "metadata": {},
   "outputs": [],
   "source": [
    "# Read csv files (Total Sales and Average price of NFT for different types of NFT)\n",
    "\n",
    "# Number of sales datasets\n",
    "no_sales_collectible = pd.read_csv(\"total_no_sales_collectible.csv\", names = [\"Date\", \"TotalSalesCollectible\"], header=0)\n",
    "no_sales_metaverse = pd.read_csv(\"total_no_sales_metaverse.csv\", names = [\"Date\", \"TotalSalesMetaverse\"], header=0)\n",
    "no_sales_game = pd.read_csv(\"total_no_sales_game.csv\", names = [\"Date\", \"TotalSalesGame\"], header=0)\n",
    "no_sales_art = pd.read_csv(\"total_no_sales_art.csv\", names = [\"Date\", \"TotalSalesArt\"], header=0)\n",
    "no_sales_utility = pd.read_csv(\"total_no_sales_utility.csv\", names = [\"Date\", \"TotalSalesUtility\"], header=0)\n",
    "no_sales_defi = pd.read_csv(\"total_no_sales_defi.csv\", names = [\"Date\", \"TotalSalesDefi\"], header=0)\n",
    "\n",
    "# Average NFT values (USD) datasets\n",
    "avg_nft_price_collectible = pd.read_csv(\"avg_nft_val_collectible.csv\", names = [\"Date\", \"AvgNftPriceCollectible\"], header=0)\n",
    "avg_nft_price_metaverse = pd.read_csv(\"avg_nft_val_metaverse.csv\", names = [\"Date\", \"AvgNftPriceMetaverse\"], header=0)\n",
    "avg_nft_price_game = pd.read_csv(\"avg_nft_val_game.csv\", names = [\"Date\", \"AvgNftPriceGame\"], header=0)\n",
    "avg_nft_price_utility = pd.read_csv(\"avg_nft_val_utility.csv\", names = [\"Date\", \"AvgNftPriceUtility\"], header=0)\n",
    "avg_nft_price_art = pd.read_csv(\"avg_nft_val_art.csv\", names = [\"Date\", \"AvgNftPriceArt\"], header=0)\n",
    "avg_nft_price_defi = pd.read_csv(\"avg_nft_val_defi.csv\", names = [\"Date\", \"AvgNftPriceDefi\"], header=0)"
   ]
  },
  {
   "cell_type": "markdown",
   "metadata": {},
   "source": [
    "## Data cleaning and engineering"
   ]
  },
  {
   "cell_type": "code",
   "execution_count": null,
   "metadata": {},
   "outputs": [],
   "source": [
    "# set start date to filter on\n",
    "start_date = '2018-01-01'\n",
    "end_date = '2022-01-31'\n",
    "# Join all datastes \n",
    "dfs = [no_sales_collectible, no_sales_metaverse, no_sales_game, no_sales_art, no_sales_utility, no_sales_defi,\n",
    "      avg_nft_price_collectible, avg_nft_price_metaverse, avg_nft_price_game, avg_nft_price_art, avg_nft_price_utility, avg_nft_price_defi]\n",
    "df_final = reduce(lambda left, right: pd.merge(left, right, on='Date', how = 'outer'), dfs)\n",
    "# change Date column to datetime\n",
    "df_final['Date'] = pd.to_datetime(df_final['Date'],format='%Y-%m-%d')\n",
    "# filter and fill NA value\n",
    "df_final = df_final[(df_final['Date'] >= start_date) & (df_final['Date'] <= end_date)]\n",
    "df_final = df_final.fillna(0)\n"
   ]
  },
  {
   "cell_type": "code",
   "execution_count": null,
   "metadata": {},
   "outputs": [],
   "source": [
    "col_total_sales = ['TotalSalesCollectible','TotalSalesMetaverse','TotalSalesGame','TotalSalesArt','TotalSalesUtility','TotalSalesDefi']\n",
    "col_avg_price = ['AvgNftPriceCollectible','AvgNftPriceMetaverse','AvgNftPriceGame','AvgNftPriceArt','AvgNftPriceUtility','AvgNftPriceDefi']\n",
    "# group by month-year and take average over the columns\n",
    "df_final_grouped_month_sales = df_final.groupby(df_final[\"Date\"].dt.to_period(\"M\"))[col_total_sales].sum()\n",
    "df_final_grouped_month_avg_price = df_final.groupby(df_final[\"Date\"].dt.to_period(\"M\"))[col_avg_price].mean()\n",
    "df_final_grouped_month_sales['Date'] = df_final_grouped_month_sales.index.strftime(\"%Y-%m\")\n",
    "df_final_grouped_month_avg_price['Date'] = df_final_grouped_month_avg_price.index.strftime(\"%Y-%m\") \n"
   ]
  },
  {
   "cell_type": "markdown",
   "metadata": {},
   "source": [
    "## Visualization"
   ]
  },
  {
   "cell_type": "code",
   "execution_count": null,
   "metadata": {},
   "outputs": [],
   "source": [
    "# change the wide format of df_final_grouped_ to long format via melt\n",
    "df_long_sales = pd.melt(df_final_grouped_month_sales, id_vars=['Date'], \n",
    "                  value_vars = col_total_sales)\n",
    "\n",
    "df_long_avg_price = pd.melt(df_final_grouped_month_avg_price, id_vars=['Date'], \n",
    "                  value_vars = col_avg_price)\n",
    "df_long = pd.concat([df_long_sales, df_long_avg_price], axis=1)\n",
    "# change column names\n",
    "df_long.columns = ['Date', 'NFT Type', 'Number of Sales', 'drop_date', 'drop_type', 'Average NFT Value (USD)']\n",
    "df_long = df_long.drop(['drop_date', 'drop_type'], axis = 1)\n",
    "\n",
    "# drop unnncessary texts for the purpose of labeling\n",
    "df_long['NFT Type'] = df_long['NFT Type'].str.replace(r'TotalSales', '')\n",
    "\n",
    "# Scale factor for better bubble visibility\n",
    "#df_long[\"scale\"] = df_long[\"Number of Sales\"]**0.4\n",
    "df_long[\"scale\"] = df_long['Average NFT Value (USD)']\n",
    "\n",
    "\n",
    "\n",
    "\n",
    "# plotly scatter plot \n",
    "fig = px.scatter(df_long, \n",
    "                 x = df_long['Date'], \n",
    "                 #y = df_long['Average NFT Value (USD)'], \n",
    "                 y = df_long['Number of Sales'], \n",
    "                 color = df_long['NFT Type'], \n",
    "                 size = df_long['scale'],\n",
    "                 hover_name = df_long['NFT Type'],\n",
    "                 hover_data=['Date', 'NFT Type', 'Number of Sales', 'Average NFT Value (USD)', ], \n",
    "                 opacity=0.5,\n",
    "                 log_y = True,\n",
    "                 template = \"plotly_dark\"               \n",
    "                )\n",
    "\n",
    "# print(fig.data[0].hovertemplate)\n",
    "# Change and update hover texts if needed\n",
    "fig.update_traces(hovertemplate='<b>%{hovertext}</b><br><br>NFT Type=%{customdata[0]}<br>Date=%{x}<br>Number of Sales=%{y}<br>Average NFT Value (USD)=%{customdata[1]}<extra></extra>') \n",
    "fig.update_xaxes(showgrid=True, ticklabelmode=\"period\", dtick=\"M3\", tickformat=\"%b\\n%Y\")\n",
    "\n",
    "fig.update_layout(\n",
    "    height=700,\n",
    "    title_text='Number of sales and average price of NFTs (Zoom in, left or double click on legends to filter)',\n",
    "    xaxis=dict(range=[\"2017-12-01\",\"2022-01-30\"])\n",
    ")\n",
    "\n",
    "# Show plot \n",
    "fig.show()\n",
    "\n",
    "# Upload on Plotly Chart Studio for embedding (Details: https://jennifer-banks8585.medium.com/how-to-embed-interactive-plotly-visualizations-on-medium-blogs-710209f93bd)\n",
    "username='your user name'\n",
    "api_key='your generated API key'\n",
    "chart_studio.tools.set_credentials_file(username=username,\n",
    "                                        api_key=api_key)\n",
    "py.plot(fig, filename=\"nft_market_analysis\", auto_open = True)"
   ]
  }
 ],
 "metadata": {
  "kernelspec": {
   "display_name": "Python 3",
   "language": "python",
   "name": "python3"
  },
  "language_info": {
   "codemirror_mode": {
    "name": "ipython",
    "version": 3
   },
   "file_extension": ".py",
   "mimetype": "text/x-python",
   "name": "python",
   "nbconvert_exporter": "python",
   "pygments_lexer": "ipython3",
   "version": "3.8.8"
  }
 },
 "nbformat": 4,
 "nbformat_minor": 4
}
